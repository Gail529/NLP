{
  "nbformat": 4,
  "nbformat_minor": 0,
  "metadata": {
    "colab": {
      "name": "nrc.ipynb",
      "provenance": [],
      "private_outputs": true,
      "authorship_tag": "ABX9TyPARrhGCsxGdqfabJMv88t/",
      "include_colab_link": true
    },
    "kernelspec": {
      "name": "python3",
      "display_name": "Python 3"
    }
  },
  "cells": [
    {
      "cell_type": "markdown",
      "metadata": {
        "id": "view-in-github",
        "colab_type": "text"
      },
      "source": [
        "<a href=\"https://colab.research.google.com/github/Gail529/NLP/blob/master/nrc.ipynb\" target=\"_parent\"><img src=\"https://colab.research.google.com/assets/colab-badge.svg\" alt=\"Open In Colab\"/></a>"
      ]
    },
    {
      "cell_type": "code",
      "metadata": {
        "id": "pwHuWK7QCHce",
        "colab_type": "code",
        "colab": {}
      },
      "source": [
        "import pandas as pd\n",
        "filepath=\"\"\n"
      ],
      "execution_count": null,
      "outputs": []
    },
    {
      "cell_type": "code",
      "metadata": {
        "id": "881lel_2FAcZ",
        "colab_type": "code",
        "colab": {}
      },
      "source": [
        "emo_df=pd.read_cvs(filepath,names=[\"word\",\"emotion\",\"association\"],skiprows=45,sep=\"/t\",keep_default_na=False)\n",
        "emo.head(15) "
      ],
      "execution_count": null,
      "outputs": []
    },
    {
      "cell_type": "code",
      "metadata": {
        "id": "JQz0kdjgFFu7",
        "colab_type": "code",
        "colab": {}
      },
      "source": [
        "emo.emotions.unique()\n",
        "emo.emotion.value_counts()\n",
        "emo[emo.association == 1].emotionvalue_counts()\n",
        "emo[(emo.association == 1)  & (emo.emotion== 'anger')].word"
      ],
      "execution_count": null,
      "outputs": []
    },
    {
      "cell_type": "code",
      "metadata": {
        "id": "81TGAP_RHY7z",
        "colab_type": "code",
        "colab": {}
      },
      "source": [
        "emo_words=emo.pivot(index='word',   columns='emotion'   ,values='association').reset _index()\n",
        "emo_words.head()"
      ],
      "execution_count": null,
      "outputs": []
    },
    {
      "cell_type": "code",
      "metadata": {
        "id": "fU8mHmMJIfft",
        "colab_type": "code",
        "colab": {}
      },
      "source": [
        "emo_words[emo_words.word == 'charitable']\n",
        "emo_words[emo_words.anger == 1].head()\n",
        "emo_words[(emo_words.joy== 1)] & (emo_words.negative == 1)].head()"
      ],
      "execution_count": null,
      "outputs": []
    },
    {
      "cell_type": "code",
      "metadata": {
        "id": "HmsAiSQAMg9E",
        "colab_type": "code",
        "colab": {}
      },
      "source": [
        "nrc=pd.read_excel(\"\")\n",
        "nrc=nrc[['word' ,'Anger',  'Anticipation',  'Disgust'  ,'Fear',   'Joy',   'Negative',   'Positive',   'Sadness',  'Surprise', 'Trust']]\n",
        "nrc.columns=['word' ,'Anger',  'Anticipation',  'Disgust'  ,'Fear',   'Joy',   'Negative',   'Positive',   'Sadness',  'Surprise', 'Trust']\n",
        "cols_to_iterate=['Anger',  'Anticipation',  'Disgust'  ,'Fear',   'Joy',   'Negative',   'Positive',   'Sadness',  'Surprise', 'Trust']"
      ],
      "execution_count": null,
      "outputs": []
    },
    {
      "cell_type": "code",
      "metadata": {
        "id": "zqFC7d06RqKC",
        "colab_type": "code",
        "colab": {}
      },
      "source": [
        "with open('','a') as f:\n",
        "    for index ,   word in nrc.iterrows():\n",
        "        for col in cols_to_iterate:\n",
        "            line=\"%s \\t %s  \\t  %d  \\n\"   %  (word['word'],col,word[col])\n",
        "            f.write(line)"
      ],
      "execution_count": null,
      "outputs": []
    }
  ]
}