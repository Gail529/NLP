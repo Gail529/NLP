{
  "nbformat": 4,
  "nbformat_minor": 0,
  "metadata": {
    "colab": {
      "name": "preprocessing.ipynb",
      "provenance": [],
      "authorship_tag": "ABX9TyPJphgrtu0DhqmRmpZz9n08",
      "include_colab_link": true
    },
    "kernelspec": {
      "name": "python3",
      "display_name": "Python 3"
    }
  },
  "cells": [
    {
      "cell_type": "markdown",
      "metadata": {
        "id": "view-in-github",
        "colab_type": "text"
      },
      "source": [
        "<a href=\"https://colab.research.google.com/github/Gail529/NLP/blob/master/preprocessing.ipynb\" target=\"_parent\"><img src=\"https://colab.research.google.com/assets/colab-badge.svg\" alt=\"Open In Colab\"/></a>"
      ]
    },
    {
      "cell_type": "code",
      "metadata": {
        "id": "RyDIzdrD2thf",
        "colab_type": "code",
        "colab": {}
      },
      "source": [
        "#Preprocessing data for Natural Language Processing \n",
        "import nltk\n",
        "nltk.download('punkt')\n",
        "text=\"Dreaming about the things that we could be But baby I been, I been prayin' hard Said no more counting dollarsWe'll be counting starsYeah, we'll be counting starsI see this lifeLike a swinging vineSwing my heart across the lineIn my faces flashing signSeek it out and ye shall findThe old, but I'm not that oldYoung, but I'm not that bold nd I don't think the world is sold I'm just doing what we're told\"\n",
        "\n"
      ],
      "execution_count": null,
      "outputs": []
    },
    {
      "cell_type": "code",
      "metadata": {
        "id": "1hDski4tyVb1",
        "colab_type": "code",
        "colab": {}
      },
      "source": [
        "#Tokenization\n",
        "from nltk.tokenize import  word_tokenize\n",
        "text=\"Dreaming about the things that we could be But baby I been, I been prayin' hard Said no more counting dollarsWe'll be counting starsYeah, we'll be counting starsI see this lifeLike a swinging vineSwing my heart across the lineIn my faces flashing signSeek it out and ye shall findThe old, but I'm not that oldYoung, but I'm not that bold nd I don't think the world is sold I'm just doing what we're told\"\n",
        "tokens=word_tokenize(text)\n",
        "#punctuations\n",
        "words=[ word for word in tokens if word.isalnum()]\n",
        "print(words)\n",
        "\n"
      ],
      "execution_count": null,
      "outputs": []
    },
    {
      "cell_type": "code",
      "metadata": {
        "id": "X3SLysXzEzWn",
        "colab_type": "code",
        "colab": {}
      },
      "source": [
        "#White space removal \n",
        "string=text.strip()\n",
        "string"
      ],
      "execution_count": null,
      "outputs": []
    },
    {
      "cell_type": "code",
      "metadata": {
        "id": "vQK0Rhm9lmT-",
        "colab_type": "code",
        "colab": {}
      },
      "source": [
        "#lowercasing and removing numbers\n",
        "import re\n",
        "string=string.lower()\n",
        "string=re.sub(r'\\d+','',string)\n",
        "print(string)"
      ],
      "execution_count": null,
      "outputs": []
    },
    {
      "cell_type": "code",
      "metadata": {
        "id": "gP5xdw2Yxfyc",
        "colab_type": "code",
        "colab": {}
      },
      "source": [
        "#stemming\n",
        "from nltk.stem import PorterStemmer\n",
        "from nltk.tokenize import word_tokenize\n",
        "stemmer=PorterStemmer()\n",
        "text=word_tokenize(text)\n",
        "#punctuations\n",
        "for  word in text:\n",
        "    print(stemmer.stem(word))\n"
      ],
      "execution_count": null,
      "outputs": []
    },
    {
      "cell_type": "code",
      "metadata": {
        "id": "kY_cMGnkzzLg",
        "colab_type": "code",
        "colab": {}
      },
      "source": [
        "#lemmatization\n",
        "nltk.download('wordnet')\n",
        "from nltk.stem import WordNetLemmatizer\n",
        "lemmatizer=WordNetLemmatizer()\n",
        "for word in text:\n",
        "    print(lemmatizer.lemmatize(word))"
      ],
      "execution_count": null,
      "outputs": []
    }
  ]
}