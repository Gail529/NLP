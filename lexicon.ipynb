{
  "nbformat": 4,
  "nbformat_minor": 0,
  "metadata": {
    "colab": {
      "name": "lexicon.ipynb",
      "provenance": [],
      "private_outputs": true,
      "collapsed_sections": [],
      "authorship_tag": "ABX9TyMeIoaEYNi62HidKQYgf28m",
      "include_colab_link": true
    },
    "kernelspec": {
      "name": "python3",
      "display_name": "Python 3"
    }
  },
  "cells": [
    {
      "cell_type": "markdown",
      "metadata": {
        "id": "view-in-github",
        "colab_type": "text"
      },
      "source": [
        "<a href=\"https://colab.research.google.com/github/Gail529/NLP/blob/master/lexicon.ipynb\" target=\"_parent\"><img src=\"https://colab.research.google.com/assets/colab-badge.svg\" alt=\"Open In Colab\"/></a>"
      ]
    },
    {
      "cell_type": "code",
      "metadata": {
        "id": "VlKzvo6TSyJC",
        "colab_type": "code",
        "colab": {}
      },
      "source": [
        "#Importing the library\n",
        "from textblob import TextBlob\n",
        "#passing the statement that is  to be analysed \n",
        "stmt=TextBlob('Today just happens to be a dull day')\n",
        "#viewing the sentiments observed from the statements\n",
        "stmt=stmt.sentiment\n",
        "print(stmt)"
      ],
      "execution_count": null,
      "outputs": []
    },
    {
      "cell_type": "code",
      "metadata": {
        "id": "F6-SerK6U1Ct",
        "colab_type": "code",
        "colab": {}
      },
      "source": [
        "#importing the required libraries\n",
        "from nltk.sentiment.vader import SentimentIntensityAnalyzer\n",
        "import nltk\n",
        "nltk.download('vader_lexicon')\n",
        "##\n",
        "def  sentiment_scores(stmt):\n",
        "    sia=SentimentIntensityAnalyzer()\n",
        "    sentiment_dict=sia.polarity_scores(statement)\n",
        "    print(\"Overall sentiment dictonary observed is:\",sentiment_dict)\n",
        "    print(\"Statement was rated as\",sentiment_dict['pos']*100,\"% Positive\")\n",
        "    print(\"Statement was rated as\",sentiment_dict['neg']*100,\"% Negative\")\n",
        "    print(\"Statement was rated as\",sentiment_dict['neu']*100,\"% Neutral\")\n",
        "    print(\"Overall rating of the statement is:  \")\n",
        "    if sentiment_dict['compound']>=0.05:\n",
        "        print(\"Positive\")\n",
        "    elif sentiment_dict['compound']<=0.05:\n",
        "        print(\"Negative\")\n",
        "    else:\n",
        "        print(\"Neutral\")\n",
        "\n",
        "stmt=\"Today just happens to be a dull day\"\n",
        "sentiment_scores(stmt)\n",
        "\n",
        "\n",
        "\n"
      ],
      "execution_count": null,
      "outputs": []
    }
  ]
}