{
  "nbformat": 4,
  "nbformat_minor": 0,
  "metadata": {
    "colab": {
      "name": "NER_spacy_reddit.ipynb",
      "provenance": [],
      "collapsed_sections": [],
      "authorship_tag": "ABX9TyO96VzjK9/bjWNKgnMCx2BO",
      "include_colab_link": true
    },
    "kernelspec": {
      "name": "python3",
      "display_name": "Python 3"
    },
    "language_info": {
      "name": "python"
    }
  },
  "cells": [
    {
      "cell_type": "markdown",
      "metadata": {
        "id": "view-in-github",
        "colab_type": "text"
      },
      "source": [
        "<a href=\"https://colab.research.google.com/github/Gail529/NLP/blob/master/NER_spacy_reddit.ipynb\" target=\"_parent\"><img src=\"https://colab.research.google.com/assets/colab-badge.svg\" alt=\"Open In Colab\"/></a>"
      ]
    },
    {
      "cell_type": "code",
      "metadata": {
        "id": "fsfPEOlu3pwj",
        "colab": {
          "base_uri": "https://localhost:8080/"
        },
        "outputId": "3bffff71-6b0f-45c8-9a41-c9cce9ae3472"
      },
      "source": [
        "import pandas as pd\n",
        "import numpy as np\n",
        "import matplotlib.pyplot as plt\n",
        "\n",
        "#tweet preprocessing \n",
        "import nltk\n",
        "nltk.download('punkt')\n",
        "nltk.download('stopwords')\n",
        "nltk.download('wordnet')\n",
        "import string\n",
        "import re\n",
        "from nltk.tokenize import word_tokenize,sent_tokenize\n",
        "from nltk.stem import WordNetLemmatizer\n",
        "from nltk.corpus import stopwords\n",
        "from nltk.stem import PorterStemmer\n",
        " \n"
      ],
      "execution_count": 2,
      "outputs": [
        {
          "output_type": "stream",
          "text": [
            "[nltk_data] Downloading package punkt to /root/nltk_data...\n",
            "[nltk_data]   Unzipping tokenizers/punkt.zip.\n",
            "[nltk_data] Downloading package stopwords to /root/nltk_data...\n",
            "[nltk_data]   Unzipping corpora/stopwords.zip.\n",
            "[nltk_data] Downloading package wordnet to /root/nltk_data...\n",
            "[nltk_data]   Unzipping corpora/wordnet.zip.\n"
          ],
          "name": "stdout"
        }
      ]
    },
    {
      "cell_type": "code",
      "metadata": {
        "colab": {
          "base_uri": "https://localhost:8080/"
        },
        "id": "FKjVkF6tW7xp",
        "outputId": "f51fa36d-a75d-4f98-8368-2472b42c2b75"
      },
      "source": [
        "!pip install wikipedia"
      ],
      "execution_count": 2,
      "outputs": [
        {
          "output_type": "stream",
          "text": [
            "Collecting wikipedia\n",
            "  Downloading https://files.pythonhosted.org/packages/67/35/25e68fbc99e672127cc6fbb14b8ec1ba3dfef035bf1e4c90f78f24a80b7d/wikipedia-1.4.0.tar.gz\n",
            "Requirement already satisfied: beautifulsoup4 in /usr/local/lib/python3.7/dist-packages (from wikipedia) (4.6.3)\n",
            "Requirement already satisfied: requests<3.0.0,>=2.0.0 in /usr/local/lib/python3.7/dist-packages (from wikipedia) (2.23.0)\n",
            "Requirement already satisfied: urllib3!=1.25.0,!=1.25.1,<1.26,>=1.21.1 in /usr/local/lib/python3.7/dist-packages (from requests<3.0.0,>=2.0.0->wikipedia) (1.24.3)\n",
            "Requirement already satisfied: chardet<4,>=3.0.2 in /usr/local/lib/python3.7/dist-packages (from requests<3.0.0,>=2.0.0->wikipedia) (3.0.4)\n",
            "Requirement already satisfied: certifi>=2017.4.17 in /usr/local/lib/python3.7/dist-packages (from requests<3.0.0,>=2.0.0->wikipedia) (2020.12.5)\n",
            "Requirement already satisfied: idna<3,>=2.5 in /usr/local/lib/python3.7/dist-packages (from requests<3.0.0,>=2.0.0->wikipedia) (2.10)\n",
            "Building wheels for collected packages: wikipedia\n",
            "  Building wheel for wikipedia (setup.py) ... \u001b[?25l\u001b[?25hdone\n",
            "  Created wheel for wikipedia: filename=wikipedia-1.4.0-cp37-none-any.whl size=11686 sha256=57b35e6a120c7e59ca977ffcaac749ff19f3ac0304749adb8029ffcfbeab7c75\n",
            "  Stored in directory: /root/.cache/pip/wheels/87/2a/18/4e471fd96d12114d16fe4a446d00c3b38fb9efcb744bd31f4a\n",
            "Successfully built wikipedia\n",
            "Installing collected packages: wikipedia\n",
            "Successfully installed wikipedia-1.4.0\n"
          ],
          "name": "stdout"
        }
      ]
    },
    {
      "cell_type": "code",
      "metadata": {
        "id": "ENGMBQgd767-"
      },
      "source": [
        "data=pd.read_csv('/content/Taylor_df.csv')"
      ],
      "execution_count": 5,
      "outputs": []
    },
    {
      "cell_type": "code",
      "metadata": {
        "colab": {
          "base_uri": "https://localhost:8080/",
          "height": 285
        },
        "id": "-FuP2IXc8QZU",
        "outputId": "14d627fe-c2c0-43c8-ccb1-c8a0ef0131fd"
      },
      "source": [
        "data.head(5)"
      ],
      "execution_count": 6,
      "outputs": [
        {
          "output_type": "execute_result",
          "data": {
            "text/html": [
              "<div>\n",
              "<style scoped>\n",
              "    .dataframe tbody tr th:only-of-type {\n",
              "        vertical-align: middle;\n",
              "    }\n",
              "\n",
              "    .dataframe tbody tr th {\n",
              "        vertical-align: top;\n",
              "    }\n",
              "\n",
              "    .dataframe thead th {\n",
              "        text-align: right;\n",
              "    }\n",
              "</style>\n",
              "<table border=\"1\" class=\"dataframe\">\n",
              "  <thead>\n",
              "    <tr style=\"text-align: right;\">\n",
              "      <th></th>\n",
              "      <th>Unnamed: 0</th>\n",
              "      <th>album</th>\n",
              "      <th>track_number</th>\n",
              "      <th>id</th>\n",
              "      <th>name</th>\n",
              "      <th>uri</th>\n",
              "      <th>acousticness</th>\n",
              "      <th>danceability</th>\n",
              "      <th>energy</th>\n",
              "      <th>instrumentalness</th>\n",
              "      <th>liveness</th>\n",
              "      <th>loudness</th>\n",
              "      <th>speechiness</th>\n",
              "      <th>tempo</th>\n",
              "      <th>valence</th>\n",
              "      <th>popularity</th>\n",
              "    </tr>\n",
              "  </thead>\n",
              "  <tbody>\n",
              "    <tr>\n",
              "      <th>0</th>\n",
              "      <td>15</td>\n",
              "      <td>evermore</td>\n",
              "      <td>1</td>\n",
              "      <td>0lx2cLdOt3piJbcaXIV74f</td>\n",
              "      <td>willow</td>\n",
              "      <td>spotify:track:0lx2cLdOt3piJbcaXIV74f</td>\n",
              "      <td>0.833</td>\n",
              "      <td>0.392</td>\n",
              "      <td>0.574</td>\n",
              "      <td>0.001790</td>\n",
              "      <td>0.1450</td>\n",
              "      <td>-9.195</td>\n",
              "      <td>0.1700</td>\n",
              "      <td>81.112</td>\n",
              "      <td>0.529</td>\n",
              "      <td>92</td>\n",
              "    </tr>\n",
              "    <tr>\n",
              "      <th>1</th>\n",
              "      <td>16</td>\n",
              "      <td>evermore</td>\n",
              "      <td>2</td>\n",
              "      <td>0sY6ZUTh4yoctD8VIXz339</td>\n",
              "      <td>champagne problems</td>\n",
              "      <td>spotify:track:0sY6ZUTh4yoctD8VIXz339</td>\n",
              "      <td>0.920</td>\n",
              "      <td>0.462</td>\n",
              "      <td>0.240</td>\n",
              "      <td>0.000000</td>\n",
              "      <td>0.1130</td>\n",
              "      <td>-12.077</td>\n",
              "      <td>0.0377</td>\n",
              "      <td>171.319</td>\n",
              "      <td>0.320</td>\n",
              "      <td>89</td>\n",
              "    </tr>\n",
              "    <tr>\n",
              "      <th>2</th>\n",
              "      <td>17</td>\n",
              "      <td>evermore</td>\n",
              "      <td>3</td>\n",
              "      <td>5BK0uqwY9DNfZ630STAEaq</td>\n",
              "      <td>gold rush</td>\n",
              "      <td>spotify:track:5BK0uqwY9DNfZ630STAEaq</td>\n",
              "      <td>0.830</td>\n",
              "      <td>0.512</td>\n",
              "      <td>0.462</td>\n",
              "      <td>0.166000</td>\n",
              "      <td>0.1210</td>\n",
              "      <td>-10.491</td>\n",
              "      <td>0.0408</td>\n",
              "      <td>112.050</td>\n",
              "      <td>0.353</td>\n",
              "      <td>87</td>\n",
              "    </tr>\n",
              "    <tr>\n",
              "      <th>3</th>\n",
              "      <td>18</td>\n",
              "      <td>evermore</td>\n",
              "      <td>4</td>\n",
              "      <td>7dW84mWkdWE5a6lFWxJCBG</td>\n",
              "      <td>‘tis the damn season</td>\n",
              "      <td>spotify:track:7dW84mWkdWE5a6lFWxJCBG</td>\n",
              "      <td>0.735</td>\n",
              "      <td>0.575</td>\n",
              "      <td>0.434</td>\n",
              "      <td>0.000066</td>\n",
              "      <td>0.1050</td>\n",
              "      <td>-8.193</td>\n",
              "      <td>0.0312</td>\n",
              "      <td>145.916</td>\n",
              "      <td>0.348</td>\n",
              "      <td>87</td>\n",
              "    </tr>\n",
              "    <tr>\n",
              "      <th>4</th>\n",
              "      <td>19</td>\n",
              "      <td>evermore</td>\n",
              "      <td>5</td>\n",
              "      <td>0PurA4JVJ8YQgSVopY8fn6</td>\n",
              "      <td>tolerate it</td>\n",
              "      <td>spotify:track:0PurA4JVJ8YQgSVopY8fn6</td>\n",
              "      <td>0.878</td>\n",
              "      <td>0.316</td>\n",
              "      <td>0.361</td>\n",
              "      <td>0.000027</td>\n",
              "      <td>0.0797</td>\n",
              "      <td>-10.381</td>\n",
              "      <td>0.0488</td>\n",
              "      <td>74.952</td>\n",
              "      <td>0.221</td>\n",
              "      <td>86</td>\n",
              "    </tr>\n",
              "  </tbody>\n",
              "</table>\n",
              "</div>"
            ],
            "text/plain": [
              "   Unnamed: 0     album  track_number  ...    tempo valence popularity\n",
              "0          15  evermore             1  ...   81.112   0.529         92\n",
              "1          16  evermore             2  ...  171.319   0.320         89\n",
              "2          17  evermore             3  ...  112.050   0.353         87\n",
              "3          18  evermore             4  ...  145.916   0.348         87\n",
              "4          19  evermore             5  ...   74.952   0.221         86\n",
              "\n",
              "[5 rows x 16 columns]"
            ]
          },
          "metadata": {
            "tags": []
          },
          "execution_count": 6
        }
      ]
    },
    {
      "cell_type": "code",
      "metadata": {
        "id": "fCBiBIxSGAz_"
      },
      "source": [
        "import spacy  \n",
        "import wikipedia\n",
        "nlp = spacy.load('en_core_web_sm')\n",
        "\n",
        "\n",
        "data=pd.read_csv('')\n",
        "\n",
        "data['location']=np.nan\n",
        "data['GPE']=np.nan \n",
        "\n",
        "col=data['post'].to_list()\n",
        "for i in range(len(col)):\n",
        "    doc=nlp(col[i])\n",
        "    gpe=[] loc=[]\n",
        "    for ent in doc.ents:\n",
        "        if (entity.label_ == 'GPE' ):\n",
        "            gpe.append(entity.text)\n",
        "        elif (entity.label_ == 'LOC'):\n",
        "            loc.append(entity.text)\n",
        "        data.iat[i,'']=gpe\n",
        "        data.iat[i,'']=loc\n",
        "\n"
      ],
      "execution_count": 6,
      "outputs": []
    },
    {
      "cell_type": "code",
      "metadata": {
        "id": "hsz4UgjanUTJ"
      },
      "source": [
        "import spacy  \n",
        "import wikipedia\n",
        "nlp = spacy.load('en_core_web_lg')\n",
        "\n",
        "gpe = [] # countries, cities, states\n",
        "loc = [] # non gpe locations, mountain ranges, bodies of water\n",
        "\n",
        "\n",
        "\n",
        "doc = nlp(open('subtitle.txt').read())\n",
        "for ent in doc.ents:\n",
        "    if (entity.label_ == 'GPE'):\n",
        "        gpe.append(entity.text)\n",
        "    elif (enity.label_ == 'LOC'):\n",
        "        loc.append(entity.text)\n",
        "\n",
        "cities = []\n",
        "countries = []\n",
        "other_places = []\n",
        "\n",
        "\n",
        "for text in gnlp(pe:\n",
        "    summary = str(wikipedia.summary(text))\n",
        "    if ('city' in summary):\n",
        "        cities.append(text)\n",
        "    elif ('country' in summary):\n",
        "        countries.append(text)\n",
        "    else:\n",
        "        other_places.append(text)\n",
        "\n"
      ],
      "execution_count": null,
      "outputs": []
    },
    {
      "cell_type": "code",
      "metadata": {
        "id": "OCrHh7DyT8ph"
      },
      "source": [
        ""
      ],
      "execution_count": null,
      "outputs": []
    }
  ]
}