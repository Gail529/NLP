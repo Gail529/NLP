{
  "nbformat": 4,
  "nbformat_minor": 0,
  "metadata": {
    "colab": {
      "name": "tfidf.ipynb",
      "provenance": [],
      "authorship_tag": "ABX9TyMlIjyZrcdlLtGfEOlS/Gul",
      "include_colab_link": true
    },
    "kernelspec": {
      "name": "python3",
      "display_name": "Python 3"
    }
  },
  "cells": [
    {
      "cell_type": "markdown",
      "metadata": {
        "id": "view-in-github",
        "colab_type": "text"
      },
      "source": [
        "<a href=\"https://colab.research.google.com/github/Gail529/NLP/blob/master/tfidf.ipynb\" target=\"_parent\"><img src=\"https://colab.research.google.com/assets/colab-badge.svg\" alt=\"Open In Colab\"/></a>"
      ]
    },
    {
      "cell_type": "code",
      "metadata": {
        "id": "Rr6eHldLCFCJ",
        "colab_type": "code",
        "colab": {}
      },
      "source": [
        "#Using Tfdiftransformer  to converting a  collection of raw documents to a matrix of TF-IDF features \n",
        "#importing libraries\n",
        "import pandas as pd\n",
        "from  sklearn.feature_extraction.text import TfidfTransformer\n",
        "from sklearn.feature_extraction.text import CountVectorizer\n",
        "\n",
        "#dummy documents\n",
        "documents=[\n",
        "           \"Monday is the second  day of the week\",\n",
        "           \"Kenya is a country in Africa  and it's capital city  is Nairobi \",\n",
        "           \"The young one of  a cow is a calf  \",\n",
        "           \"It  normally rains when the sky is grey\",\n",
        "           \"Please don't make  any sudden moves \"\n",
        "                        ]"
      ],
      "execution_count": null,
      "outputs": []
    },
    {
      "cell_type": "code",
      "metadata": {
        "id": "mPZlD2NNIp6R",
        "colab_type": "code",
        "colab": {}
      },
      "source": [
        "#instantiating  CountVectorizer ()\n",
        "cv=CountVectorizer()\n",
        "#counts all the words for the document\n",
        "word_count_vector=cv.fit_transform(documents)\n",
        "word_count_vector.shape"
      ],
      "execution_count": null,
      "outputs": []
    },
    {
      "cell_type": "code",
      "metadata": {
        "id": "fDx_wylMLvfg",
        "colab_type": "code",
        "colab": {}
      },
      "source": [
        "#calculating the idf\n",
        "tfidf_transformer= TfidfTransformer(smooth_idf=True,use_idf=True)\n",
        "tfidf_transformer.fit(word_count_vector)"
      ],
      "execution_count": null,
      "outputs": []
    },
    {
      "cell_type": "code",
      "metadata": {
        "id": "rwXgxvtqPeQJ",
        "colab_type": "code",
        "colab": {}
      },
      "source": [
        "#printing the idf values\n",
        "df_idf=pd.DataFrame(tfidf_transformer.idf_  , index=cv.get_feature_names(),columns=[\"idf_weights\"])\n",
        "#sort ascending\n",
        "df_idf.sort_values(by=[ 'idf_weights' ])"
      ],
      "execution_count": null,
      "outputs": []
    },
    {
      "cell_type": "code",
      "metadata": {
        "id": "_kTaS81mSVpv",
        "colab_type": "code",
        "colab": {}
      },
      "source": [
        "#A count matrix\n",
        "count_vector=cv.transform(documents)\n",
        "#calculating the  tf-idf vector\n",
        "tf_idf_vector=tfidf_transformer.transform(count_vector)\n",
        "print(tf_idf_vector)"
      ],
      "execution_count": null,
      "outputs": []
    },
    {
      "cell_type": "code",
      "metadata": {
        "id": "Rp8nL3-OVGzC",
        "colab_type": "code",
        "colab": {}
      },
      "source": [
        "#getting the names of the feature\n",
        "feature=cv.get_feature_names()\n",
        "#extracting the tfidf  scores for the first document\n",
        "first_document_vector=tf_idf_vector[0]\n",
        "#printing the scores\n",
        "df=pd.DataFrame(first_document_vector.T.todense(), index=feature,columns=[\"tfidf\"])\n",
        "print(df)"
      ],
      "execution_count": null,
      "outputs": []
    },
    {
      "cell_type": "code",
      "metadata": {
        "id": "PH--Ekt7YFIr",
        "colab_type": "code",
        "colab": {}
      },
      "source": [
        "#Using Tfidfvectorizer \n",
        "from sklearn.feature_extraction.text import TfidfVectorizer\n",
        "tfidf_vectorizer=TfidfVectorizer(use_idf=True)\n",
        "tfidf_vectorizer_vectors=tfidf_vectorizer.fit_transform(documents)\n",
        "#extracting the tfidf  scores for the first document\n",
        "first_tfidf_vector=tfidf_vectorizer_vectors[0]\n",
        "#printing the scores\n",
        "features=first_tfidf_vector.get_feature_names()\n",
        "df=pd.DataFrame(first_tfidf_vector.T.todense(), index=features,columns=[\"tfidf\"])\n",
        "print(df)\n"
      ],
      "execution_count": null,
      "outputs": []
    }
  ]
}