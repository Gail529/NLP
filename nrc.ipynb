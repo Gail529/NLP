{
  "nbformat": 4,
  "nbformat_minor": 0,
  "metadata": {
    "colab": {
      "name": "nrc.ipynb",
      "provenance": [],
      "collapsed_sections": [],
      "authorship_tag": "ABX9TyPg7hagT/xAjP3DFJf0YN8p",
      "include_colab_link": true
    },
    "kernelspec": {
      "name": "python3",
      "display_name": "Python 3"
    }
  },
  "cells": [
    {
      "cell_type": "markdown",
      "metadata": {
        "id": "view-in-github",
        "colab_type": "text"
      },
      "source": [
        "<a href=\"https://colab.research.google.com/github/Gail529/NLP/blob/master/nrc.ipynb\" target=\"_parent\"><img src=\"https://colab.research.google.com/assets/colab-badge.svg\" alt=\"Open In Colab\"/></a>"
      ]
    },
    {
      "cell_type": "code",
      "metadata": {
        "id": "PZY93P121m3e",
        "colab_type": "code",
        "colab": {}
      },
      "source": [
        "import pandas as pd\n",
        "filepath=\"/content/NRC-Emotion-Lexicon-v0.92-In105Languages-Nov2017Translations.xlsx\"\n",
        "emo_df=pd.read_excel(filepath , index=False)"
      ],
      "execution_count": 31,
      "outputs": []
    },
    {
      "cell_type": "code",
      "metadata": {
        "id": "NLKcSe0suezT",
        "colab_type": "code",
        "colab": {
          "base_uri": "https://localhost:8080/",
          "height": 552
        },
        "outputId": "66aab013-a8c9-4c53-e011-88df281fb5f5"
      },
      "source": [
        "#filtering off the columns not needed for the project\n",
        "colnames=emo_df.columns\n",
        "print(colnames)\n",
        "emo=emo_df.filter(items=['English (en)', 'Positive', 'Negative', 'Anger', 'Anticipation', 'Disgust', 'Fear', 'Joy', 'Sadness', 'Surprise', 'Trust'])\n",
        "emo"
      ],
      "execution_count": 33,
      "outputs": [
        {
          "output_type": "stream",
          "text": [
            "Index(['English (en)', 'Afrikaans (af)', 'Albanian (sq)', 'Amharic (am)',\n",
            "       'Arabic (ar)', 'Armenian (hy)', 'Azeerbaijani (az)', 'Basque (eu)',\n",
            "       'Belarusian (be)', 'Bengali (bn)',\n",
            "       ...\n",
            "       'Positive', 'Negative', 'Anger', 'Anticipation', 'Disgust', 'Fear',\n",
            "       'Joy', 'Sadness', 'Surprise', 'Trust'],\n",
            "      dtype='object', length=115)\n"
          ],
          "name": "stdout"
        },
        {
          "output_type": "execute_result",
          "data": {
            "text/html": [
              "<div>\n",
              "<style scoped>\n",
              "    .dataframe tbody tr th:only-of-type {\n",
              "        vertical-align: middle;\n",
              "    }\n",
              "\n",
              "    .dataframe tbody tr th {\n",
              "        vertical-align: top;\n",
              "    }\n",
              "\n",
              "    .dataframe thead th {\n",
              "        text-align: right;\n",
              "    }\n",
              "</style>\n",
              "<table border=\"1\" class=\"dataframe\">\n",
              "  <thead>\n",
              "    <tr style=\"text-align: right;\">\n",
              "      <th></th>\n",
              "      <th>English (en)</th>\n",
              "      <th>Positive</th>\n",
              "      <th>Negative</th>\n",
              "      <th>Anger</th>\n",
              "      <th>Anticipation</th>\n",
              "      <th>Disgust</th>\n",
              "      <th>Fear</th>\n",
              "      <th>Joy</th>\n",
              "      <th>Sadness</th>\n",
              "      <th>Surprise</th>\n",
              "      <th>Trust</th>\n",
              "    </tr>\n",
              "  </thead>\n",
              "  <tbody>\n",
              "    <tr>\n",
              "      <th>0</th>\n",
              "      <td>aback</td>\n",
              "      <td>0</td>\n",
              "      <td>0</td>\n",
              "      <td>0</td>\n",
              "      <td>0</td>\n",
              "      <td>0</td>\n",
              "      <td>0</td>\n",
              "      <td>0</td>\n",
              "      <td>0</td>\n",
              "      <td>0</td>\n",
              "      <td>0</td>\n",
              "    </tr>\n",
              "    <tr>\n",
              "      <th>1</th>\n",
              "      <td>abacus</td>\n",
              "      <td>0</td>\n",
              "      <td>0</td>\n",
              "      <td>0</td>\n",
              "      <td>0</td>\n",
              "      <td>0</td>\n",
              "      <td>0</td>\n",
              "      <td>0</td>\n",
              "      <td>0</td>\n",
              "      <td>0</td>\n",
              "      <td>1</td>\n",
              "    </tr>\n",
              "    <tr>\n",
              "      <th>2</th>\n",
              "      <td>abandon</td>\n",
              "      <td>0</td>\n",
              "      <td>1</td>\n",
              "      <td>0</td>\n",
              "      <td>0</td>\n",
              "      <td>0</td>\n",
              "      <td>1</td>\n",
              "      <td>0</td>\n",
              "      <td>1</td>\n",
              "      <td>0</td>\n",
              "      <td>0</td>\n",
              "    </tr>\n",
              "    <tr>\n",
              "      <th>3</th>\n",
              "      <td>abandoned</td>\n",
              "      <td>0</td>\n",
              "      <td>1</td>\n",
              "      <td>1</td>\n",
              "      <td>0</td>\n",
              "      <td>0</td>\n",
              "      <td>1</td>\n",
              "      <td>0</td>\n",
              "      <td>1</td>\n",
              "      <td>0</td>\n",
              "      <td>0</td>\n",
              "    </tr>\n",
              "    <tr>\n",
              "      <th>4</th>\n",
              "      <td>abandonment</td>\n",
              "      <td>0</td>\n",
              "      <td>1</td>\n",
              "      <td>1</td>\n",
              "      <td>0</td>\n",
              "      <td>0</td>\n",
              "      <td>1</td>\n",
              "      <td>0</td>\n",
              "      <td>1</td>\n",
              "      <td>1</td>\n",
              "      <td>0</td>\n",
              "    </tr>\n",
              "    <tr>\n",
              "      <th>...</th>\n",
              "      <td>...</td>\n",
              "      <td>...</td>\n",
              "      <td>...</td>\n",
              "      <td>...</td>\n",
              "      <td>...</td>\n",
              "      <td>...</td>\n",
              "      <td>...</td>\n",
              "      <td>...</td>\n",
              "      <td>...</td>\n",
              "      <td>...</td>\n",
              "      <td>...</td>\n",
              "    </tr>\n",
              "    <tr>\n",
              "      <th>14177</th>\n",
              "      <td>zone</td>\n",
              "      <td>0</td>\n",
              "      <td>0</td>\n",
              "      <td>0</td>\n",
              "      <td>0</td>\n",
              "      <td>0</td>\n",
              "      <td>0</td>\n",
              "      <td>0</td>\n",
              "      <td>0</td>\n",
              "      <td>0</td>\n",
              "      <td>0</td>\n",
              "    </tr>\n",
              "    <tr>\n",
              "      <th>14178</th>\n",
              "      <td>zoo</td>\n",
              "      <td>0</td>\n",
              "      <td>0</td>\n",
              "      <td>0</td>\n",
              "      <td>0</td>\n",
              "      <td>0</td>\n",
              "      <td>0</td>\n",
              "      <td>0</td>\n",
              "      <td>0</td>\n",
              "      <td>0</td>\n",
              "      <td>0</td>\n",
              "    </tr>\n",
              "    <tr>\n",
              "      <th>14179</th>\n",
              "      <td>zoological</td>\n",
              "      <td>0</td>\n",
              "      <td>0</td>\n",
              "      <td>0</td>\n",
              "      <td>0</td>\n",
              "      <td>0</td>\n",
              "      <td>0</td>\n",
              "      <td>0</td>\n",
              "      <td>0</td>\n",
              "      <td>0</td>\n",
              "      <td>0</td>\n",
              "    </tr>\n",
              "    <tr>\n",
              "      <th>14180</th>\n",
              "      <td>zoology</td>\n",
              "      <td>0</td>\n",
              "      <td>0</td>\n",
              "      <td>0</td>\n",
              "      <td>0</td>\n",
              "      <td>0</td>\n",
              "      <td>0</td>\n",
              "      <td>0</td>\n",
              "      <td>0</td>\n",
              "      <td>0</td>\n",
              "      <td>0</td>\n",
              "    </tr>\n",
              "    <tr>\n",
              "      <th>14181</th>\n",
              "      <td>zoom</td>\n",
              "      <td>0</td>\n",
              "      <td>0</td>\n",
              "      <td>0</td>\n",
              "      <td>0</td>\n",
              "      <td>0</td>\n",
              "      <td>0</td>\n",
              "      <td>0</td>\n",
              "      <td>0</td>\n",
              "      <td>0</td>\n",
              "      <td>0</td>\n",
              "    </tr>\n",
              "  </tbody>\n",
              "</table>\n",
              "<p>14182 rows × 11 columns</p>\n",
              "</div>"
            ],
            "text/plain": [
              "      English (en)  Positive  Negative  Anger  ...  Joy  Sadness  Surprise  Trust\n",
              "0            aback         0         0      0  ...    0        0         0      0\n",
              "1           abacus         0         0      0  ...    0        0         0      1\n",
              "2          abandon         0         1      0  ...    0        1         0      0\n",
              "3        abandoned         0         1      1  ...    0        1         0      0\n",
              "4      abandonment         0         1      1  ...    0        1         1      0\n",
              "...            ...       ...       ...    ...  ...  ...      ...       ...    ...\n",
              "14177         zone         0         0      0  ...    0        0         0      0\n",
              "14178          zoo         0         0      0  ...    0        0         0      0\n",
              "14179   zoological         0         0      0  ...    0        0         0      0\n",
              "14180      zoology         0         0      0  ...    0        0         0      0\n",
              "14181         zoom         0         0      0  ...    0        0         0      0\n",
              "\n",
              "[14182 rows x 11 columns]"
            ]
          },
          "metadata": {
            "tags": []
          },
          "execution_count": 33
        }
      ]
    },
    {
      "cell_type": "code",
      "metadata": {
        "id": "CFitUtn4mxL5",
        "colab_type": "code",
        "colab": {
          "base_uri": "https://localhost:8080/",
          "height": 36
        },
        "outputId": "f164e696-add3-4073-bd05-10f3cf4881c8"
      },
      "source": [
        "#extracting all words that are associated with anger\n",
        "is_angry=emo['Anger'] == 1    \n",
        "emo_anger=emo[is_angry]\n",
        "angry_words=emo_anger['English (en)'].values\n",
        "print(angry_words)"
      ],
      "execution_count": 58,
      "outputs": [
        {
          "output_type": "stream",
          "text": [
            "['abandoned' 'abandonment' 'abhor' ... 'yell' 'yelp' 'youth']\n"
          ],
          "name": "stdout"
        }
      ]
    },
    {
      "cell_type": "code",
      "metadata": {
        "id": "73nkmFfonyZe",
        "colab_type": "code",
        "colab": {
          "base_uri": "https://localhost:8080/",
          "height": 1000
        },
        "outputId": "1e367154-9a9d-4515-8009-a32d0b7ec63d"
      },
      "source": [
        "#extracting all words that are associated with joy\n",
        "is_jolly=emo['Joy'] == 1    \n",
        "emo_joy=emo[is_jolly]\n",
        "jolly_words=emo_joy['English (en)'].values\n",
        "print(jolly_words)"
      ],
      "execution_count": 57,
      "outputs": [
        {
          "output_type": "stream",
          "text": [
            "['absolution' 'abundance' 'abundant' 'accolade' 'accompaniment'\n",
            " 'accomplish' 'accomplished' 'achieve' 'achievement' 'acrobat' 'admirable'\n",
            " 'admiration' 'adorable' 'adoration' 'adore' 'advance' 'advent' 'advocacy'\n",
            " 'aesthetics' 'affection' 'affluence' 'alive' 'allure' 'aloha' 'amazingly'\n",
            " 'ambition' 'amen' 'amicable' 'amnesty' 'amour' 'amuse' 'amused'\n",
            " 'amusement' 'amusing' 'angel' 'angelic' 'animated' 'applause'\n",
            " 'appreciation' 'approve' 'ardent' 'art' 'aspiration' 'aspire' 'aspiring'\n",
            " 'astonishment' 'atone' 'auspicious' 'authentic' 'award' 'baby' 'balm'\n",
            " 'banquet' 'baptismal' 'basketball' 'beach' 'beam' 'beaming'\n",
            " 'beautification' 'beautiful' 'beautify' 'beauty' 'beer' 'befriend'\n",
            " 'benevolence' 'benign' 'betrothed' 'birth' 'birthday' 'bless' 'blessed'\n",
            " 'blessing' 'blessings' 'bliss' 'blissful' 'bloom' 'blossom' 'boisterous'\n",
            " 'bonanza' 'bonus' 'bountiful' 'bounty' 'bouquet' 'bridal' 'bride'\n",
            " 'bridegroom' 'bridesmaid' 'brighten' 'brilliant' 'brotherly' 'buddy'\n",
            " 'buss' 'calf' 'candid' 'captivate' 'carol' 'cash' 'cathedral'\n",
            " 'celebrated' 'celebrating' 'celebration' 'celebrity' 'celestial'\n",
            " 'ceremony' 'champion' 'chant' 'charitable' 'charity' 'charmed' 'cheer'\n",
            " 'cheerful' 'cheerfulness' 'cheering' 'cheery' 'cherish' 'child'\n",
            " 'childhood' 'chirp' 'chocolate' 'choir' 'choral' 'chuckle' 'church'\n",
            " 'civilized' 'clap' 'classics' 'clean' 'climax' 'closeness' 'closure'\n",
            " 'clown' 'comfort' 'commemorate' 'commemoration' 'commendable' 'communion'\n",
            " 'companion' 'compensate' 'complement' 'completing' 'completion'\n",
            " 'compliment' 'conciliation' 'confidence' 'confident' 'congratulatory'\n",
            " 'connoisseur' 'consecration' 'content' 'coronation' 'courtship' 'cove'\n",
            " 'cradle' 'cream' 'create' 'crescendo' 'crowning' 'cuddle' 'dance'\n",
            " 'darling' 'daughter' 'dawn' 'deal' 'delicious' 'delight' 'delighted'\n",
            " 'delightful' 'deliverance' 'demonstrative' 'destination' 'devout'\n",
            " 'diamond' 'diary' 'ditty' 'doll' 'dolphin' 'dove' 'eager' 'eagerness'\n",
            " 'ecstasy' 'ecstatic' 'edification' 'ejaculation' 'elated' 'electric'\n",
            " 'elegance' 'elegant' 'elevation' 'elite' 'emancipation' 'embrace'\n",
            " 'enchant' 'enchanted' 'enchanting' 'encourage' 'endless' 'engaged'\n",
            " 'engaging' 'enjoy' 'enjoying' 'enlighten' 'enlightenment' 'enliven'\n",
            " 'entertain' 'entertained' 'entertaining' 'entertainment' 'enthusiasm'\n",
            " 'enthusiast' 'equality' 'erotic' 'established' 'esteem' 'evergreen'\n",
            " 'exalt' 'exaltation' 'exalted' 'exceed' 'excel' 'excellence' 'excellent'\n",
            " 'excitation' 'excite' 'excited' 'excitement' 'exciting' 'exhilaration'\n",
            " 'expedient' 'exquisite' 'exuberance' 'fain' 'faith' 'familiarity' 'fancy'\n",
            " 'fanfare' 'favorable' 'favorite' 'feat' 'feeling' 'felicity' 'fervor'\n",
            " 'festival' 'festive' 'fete' 'fidelity' 'fiesta' 'finally' 'firstborn'\n",
            " 'fitting' 'flattering' 'flirt' 'fondness' 'food' 'football' 'forefathers'\n",
            " 'fortitude' 'fortune' 'found' 'fraternal' 'freedom' 'freely' 'friend'\n",
            " 'friendliness' 'friendly' 'friendship' 'frisky' 'frolic' 'fulfill'\n",
            " 'fulfillment' 'fun' 'gain' 'garden' 'gem' 'generosity' 'generous'\n",
            " 'genial' 'gift' 'giggle' 'glad' 'gladness' 'glee' 'glide' 'glimmer'\n",
            " 'glitter' 'glorification' 'glorify' 'glory' 'glow' 'god' 'godly'\n",
            " 'godsend' 'good' 'goodness' 'gorgeous' 'graduation' 'grandchildren'\n",
            " 'grant' 'gratify' 'gratitude' 'greatness' 'green' 'grin' 'grow' 'gush'\n",
            " 'happily' 'happiness' 'happy' 'hardy' 'harmoniously' 'harmony' 'harvest'\n",
            " 'heal' 'healing' 'healthful' 'heartfelt' 'heartily' 'heavenly' 'heavens'\n",
            " 'hedonism' 'helpful' 'hero' 'heroic' 'heroism' 'heyday' 'highest'\n",
            " 'hilarious' 'hilarity' 'hire' 'hobby' 'holiday' 'holiness' 'honest'\n",
            " 'honeymoon' 'hope' 'hopeful' 'hug' 'humanitarian' 'humanity' 'humorous'\n",
            " 'hurrah' 'hymn' 'illuminate' 'illumination' 'immaculate' 'immerse'\n",
            " 'improve' 'improvement' 'inauguration' 'income' 'independence' 'infant'\n",
            " 'infinity' 'inheritance' 'inseparable' 'inspiration' 'inspire' 'inspired'\n",
            " 'intelligence' 'intense' 'intimate' 'intimately' 'invite' 'inviting'\n",
            " 'jackpot' 'jest' 'joker' 'journey' 'jovial' 'joy' 'joyful' 'joyous'\n",
            " 'jubilant' 'jubilee' 'jump' 'kind' 'kindred' 'kiss' 'kitten' 'kudos'\n",
            " 'labor' 'lamb' 'laugh' 'laughing' 'laughter' 'laurels' 'legalized'\n",
            " 'leisure' 'liberate' 'liberation' 'liberty' 'liking' 'liquor' 'lovable'\n",
            " 'love' 'lovely' 'lovemaking' 'lover' 'loving' 'loyal' 'luck' 'lucky'\n",
            " 'luscious' 'luster' 'luxurious' 'luxury' 'lyre' 'lyrical' 'magical'\n",
            " 'magnificence' 'magnificent' 'majestic' 'majority' 'marriage' 'marrow'\n",
            " 'marry' 'marvelous' 'marvelously' 'massage' 'masterpiece' 'mastery'\n",
            " 'matrimony' 'medal' 'meditate' 'memorable' 'meritorious' 'merriment'\n",
            " 'merry' 'midwife' 'mighty' 'ministry' 'miracle' 'miraculous' 'mirth'\n",
            " 'money' 'morals' 'mother' 'motherhood' 'music' 'musical' 'nap' 'notable'\n",
            " 'nursery' 'nurture' 'oasis' 'obliging' 'obtainable' 'opera' 'opportune'\n",
            " 'optimism' 'orchestra' 'ordination' 'organ' 'organization' 'orgasm'\n",
            " 'outburst' 'outstanding' 'overjoyed' 'parade' 'paragon' 'passion'\n",
            " 'passionate' 'pastor' 'pastry' 'pay' 'peace' 'peaceful' 'perfect'\n",
            " 'perfection' 'picnic' 'picturesque' 'playful' 'playground' 'playhouse'\n",
            " 'pleasant' 'pleased' 'pleasurable' 'pledge' 'possess' 'powerful'\n",
            " 'practiced' 'praise' 'praised' 'praiseworthy' 'pray' 'precious' 'present'\n",
            " 'preservative' 'prestige' 'presto' 'pretty' 'prevail' 'pride'\n",
            " 'priesthood' 'princely' 'privileged' 'procession' 'proficiency'\n",
            " 'progress' 'progression' 'promise' 'prosper' 'prosperous' 'proud'\n",
            " 'providing' 'purify' 'purr' 'quaint' 'radiance' 'radiant' 'rapt'\n",
            " 'rapture' 'rave' 'raving' 'readiness' 'receiving' 'reconciliation'\n",
            " 'recreation' 'recreational' 'rejoice' 'rejoicing' 'rekindle' 'remarkable'\n",
            " 'remedy' 'renovation' 'repay' 'reproductive' 'rescue' 'resources'\n",
            " 'respect' 'respite' 'resplendent' 'restorative' 'retirement' 'revel'\n",
            " 'revels' 'revere' 'reverence' 'reverend' 'reverie' 'revival' 'reward'\n",
            " 'rhythmical' 'ribbon' 'rising' 'roadster' 'rollicking' 'romance'\n",
            " 'romantic' 'romanticism' 'romp' 'safe' 'saint' 'saintly' 'salary'\n",
            " 'salutary' 'salute' 'salvation' 'sanctification' 'sanctify' 'sanctuary'\n",
            " 'satisfied' 'save' 'savor' 'scholarship' 'score' 'sensational' 'sensual'\n",
            " 'sensuality' 'sensuous' 'serenity' 'sex' 'share' 'shining' 'shopping'\n",
            " 'silly' 'simplify' 'sing' 'smile' 'smiling' 'sonnet' 'sonorous'\n",
            " 'soothing' 'soundness' 'spa' 'spaniel' 'sparkle' 'special' 'spirits'\n",
            " 'splendid' 'splendor' 'spouse' 'star' 'starry' 'sterling' 'strengthening'\n",
            " 'sublimation' 'succeed' 'succeeding' 'success' 'successful' 'sun' 'sunny'\n",
            " 'sunshine' 'superman' 'superstar' 'supporter' 'supremacy' 'surprise'\n",
            " 'sweet' 'sweetheart' 'sweets' 'swim' 'symmetry' 'sympathetic' 'symphony'\n",
            " 'synchronize' 'tantalizing' 'teach' 'tender' 'tenderness' 'thankful'\n",
            " 'thanksgiving' 'therapeutic' 'thrill' 'thrilling' 'thriving' 'tickle'\n",
            " 'tinsel' 'toast' 'tranquil' 'tranquility' 'transcendence' 'treasure'\n",
            " 'treat' 'tree' 'triumph' 'triumphant' 'trophy' 'truce' True 'twinkle'\n",
            " 'unbeaten' 'unconstrained' 'undying' 'unexpected' 'unification'\n",
            " 'unsurpassed' 'untie' 'uplift' 'utopian' 'vacation' 'venerable'\n",
            " 'veracity' 'vernal' 'victor' 'victorious' 'victory' 'vindication'\n",
            " 'virtuous' 'visionary' 'visitor' 'vitality' 'vivacious' 'vivid'\n",
            " 'volunteer' 'voluptuous' 'vote' 'vow' 'wages' 'wealth' 'weight'\n",
            " 'welcomed' 'whim' 'whimsical' 'white' 'whiteness' 'winner' 'winning'\n",
            " 'winnings' 'witty' 'wonderful' 'wonderfully' 'worship' 'yearning' 'young'\n",
            " 'youth' 'zeal' 'zealous' 'zest']\n"
          ],
          "name": "stdout"
        }
      ]
    },
    {
      "cell_type": "code",
      "metadata": {
        "id": "DpteUn1IQGXz",
        "colab_type": "code",
        "colab": {
          "base_uri": "https://localhost:8080/",
          "height": 36
        },
        "outputId": "2d8a6b2d-a07a-4256-dcef-3f56be6b8606"
      },
      "source": [
        "#extracting all positive words\n",
        "\n",
        "is_pos=emo['Positive'] == 1    \n",
        "emo_pos=emo[is_pos]\n",
        "pos_words=emo_pos['English (en)'].values\n",
        "print(pos_words)"
      ],
      "execution_count": 48,
      "outputs": [
        {
          "output_type": "stream",
          "text": [
            "['abba' 'ability' 'abovementioned' ... 'zeal' 'zealous' 'zest']\n"
          ],
          "name": "stdout"
        }
      ]
    },
    {
      "cell_type": "code",
      "metadata": {
        "id": "hWE1aj_YSGgI",
        "colab_type": "code",
        "colab": {
          "base_uri": "https://localhost:8080/",
          "height": 36
        },
        "outputId": "174c5095-c532-4b74-a6c0-d6d283eac50d"
      },
      "source": [
        "#extracting all rows where the emotion is negative\n",
        "is_neg=emo['Negative'] == 1\n",
        "emo_neg=emo[is_neg]\n",
        "neg_words=emo_neg['English (en)'].values\n",
        "print(neg_words)"
      ],
      "execution_count": 46,
      "outputs": [
        {
          "output_type": "stream",
          "text": [
            "['abandon' 'abandoned' 'abandonment' ... 'yellows' 'yelp' 'zip']\n"
          ],
          "name": "stdout"
        }
      ]
    },
    {
      "cell_type": "code",
      "metadata": {
        "id": "b3dY1RTyUPl6",
        "colab_type": "code",
        "colab": {
          "base_uri": "https://localhost:8080/",
          "height": 36
        },
        "outputId": "284ff8ce-af75-4172-a48c-d9dc9ee224f2"
      },
      "source": [
        "#extracting all words that are associated with trust\n",
        "is_trust=emo['Trust'] == 1\n",
        "emo_trust=emo[is_trust]\n",
        "trust_words=emo_trust['English (en)'].values\n",
        "#third_word=trust_words[8]\n",
        "print(trust_words)\n"
      ],
      "execution_count": 47,
      "outputs": [
        {
          "output_type": "stream",
          "text": [
            "['abacus' 'abbot' 'absolution' ... 'zeal' 'zealous' 'zest']\n"
          ],
          "name": "stdout"
        }
      ]
    },
    {
      "cell_type": "code",
      "metadata": {
        "id": "S2nNaW6YpgK0",
        "colab_type": "code",
        "colab": {
          "base_uri": "https://localhost:8080/",
          "height": 36
        },
        "outputId": "1bcf4a90-4d43-4b2d-b2f4-f5c80fc1ea8f"
      },
      "source": [
        "#extracting all words that are associated with Sadness\t\n",
        "is_sad=emo['Sadness'] == 1\n",
        "emo_sad=emo[is_sad]\n",
        "sad_words=emo_sad['English (en)'].values\n",
        "print(sad_words)\n"
      ],
      "execution_count": 59,
      "outputs": [
        {
          "output_type": "stream",
          "text": [
            "['abandon' 'abandoned' 'abandonment' ... 'wrongdoing' 'wrongful' 'wrongly']\n"
          ],
          "name": "stdout"
        }
      ]
    },
    {
      "cell_type": "code",
      "metadata": {
        "id": "jaIpUjNVpnwx",
        "colab_type": "code",
        "colab": {
          "base_uri": "https://localhost:8080/",
          "height": 36
        },
        "outputId": "dfb82fdd-7557-4ca8-da4a-cb08092d5e1e"
      },
      "source": [
        "#extracting all words that are associated with disgust\n",
        "is_disgust=emo['Disgust'] == 1\n",
        "emo_disgust=emo[is_trust]\n",
        "disgusting_words=emo_disgust['English (en)'].values\n",
        "#third_word=trust_words[8]\n",
        "print(disgusting_words)\n"
      ],
      "execution_count": 61,
      "outputs": [
        {
          "output_type": "stream",
          "text": [
            "['abacus' 'abbot' 'absolution' ... 'zeal' 'zealous' 'zest']\n"
          ],
          "name": "stdout"
        }
      ]
    },
    {
      "cell_type": "code",
      "metadata": {
        "id": "hXF-LNCGVoNK",
        "colab_type": "code",
        "colab": {
          "base_uri": "https://localhost:8080/",
          "height": 131
        },
        "outputId": "4a935b5f-792b-4f15-92d3-5f6cdfc68ae5"
      },
      "source": [
        "import nltk\n",
        "nltk.download('punkt')\n",
        "#Tokenization\n",
        "from nltk.tokenize import  word_tokenize\n",
        "text=\"Dreaming about the things that we could be But baby I been, I been prayin' hard Said no more counting dollars We'll be counting starsYeah, we'll be counting starsI see this lifeLike a swinging vineSwing my heart across the lineIn my faces flashing signSeek it out and ye shall findThe old, but I'm not that oldYoung, but I'm not that bold nd I don't think the world is sold I'm just doing what we're told\"\n",
        "tokens=word_tokenize(text)\n",
        "#identifying the emotions of a word\n",
        "for t in tokens:\n",
        "    pos=t in pos_words #for positive words\n",
        "    if   pos == True:\n",
        "        print(t +' \\t is a positive word')\n",
        "\n",
        "    neg=t in neg_words  #for negative words\n",
        "    if  neg == True:\n",
        "        print(t +'\\t  is a negative word')\n",
        "\n",
        "    ang=t in angry_words  #for angry words\n",
        "    if   ang == True:\n",
        "        print(t +' \\t is an angry word')  \n",
        "\n",
        "    sad=t in sad_words  #for sad words\n",
        "    if   sad == True:\n",
        "        print(t +' \\t is a sad word')\n",
        "\n",
        "    trust=t in trust_words  #for  words associated with trust')\n",
        "    if   pos == True:\n",
        "        print(t +' \\t is associated with trust')"
      ],
      "execution_count": 65,
      "outputs": [
        {
          "output_type": "stream",
          "text": [
            "[nltk_data] Downloading package punkt to /root/nltk_data...\n",
            "[nltk_data]   Package punkt is already up-to-date!\n",
            "baby \t is a positive word\n",
            "baby \t is associated with trust\n",
            "bold \t is a positive word\n",
            "bold \t is associated with trust\n"
          ],
          "name": "stdout"
        }
      ]
    },
    {
      "cell_type": "code",
      "metadata": {
        "id": "iUzPfLHcVyW6",
        "colab_type": "code",
        "colab": {
          "base_uri": "https://localhost:8080/",
          "height": 93
        },
        "outputId": "a3be892d-e653-4ae1-e3ac-6c4cb5320388"
      },
      "source": [
        "for t in term:\n",
        "        val=t in trust_words\n",
        "        print(val)\n",
        "        \n",
        "       \n"
      ],
      "execution_count": 13,
      "outputs": [
        {
          "output_type": "stream",
          "text": [
            "False\n",
            "False\n",
            "False\n",
            "False\n"
          ],
          "name": "stdout"
        }
      ]
    },
    {
      "cell_type": "code",
      "metadata": {
        "id": "1YUk-gwG2GpU",
        "colab_type": "code",
        "colab": {}
      },
      "source": [
        "emo_words=emo.pivot(index='word',   columns='emotion'   ,values='association').reset _index()\n",
        "emo_words.head()"
      ],
      "execution_count": null,
      "outputs": []
    },
    {
      "cell_type": "code",
      "metadata": {
        "id": "OD-qzXFl2PYO",
        "colab_type": "code",
        "colab": {}
      },
      "source": [
        "emo_words[emo_words.word == 'charitable']\n",
        "emo_words[emo_words.anger == 1].head()\n",
        "emo_words[(emo_words.joy== 1)] & (emo_words.negative == 1)].head()"
      ],
      "execution_count": null,
      "outputs": []
    },
    {
      "cell_type": "code",
      "metadata": {
        "id": "b1R_YGwF2Xuy",
        "colab_type": "code",
        "colab": {}
      },
      "source": [
        "nrc=pd.read_excel(\"/content/NRC-Emotion-Lexicon-v0.92-In105Languages-Nov2017Translations.xlsx\")\n",
        "nrc=nrc[['English (en)' ,'Anger',  'Anticipation',  'Disgust'  ,'Fear',   'Joy',   'Negative',   'Positive',   'Sadness',  'Surprise', 'Trust']]\n",
        "nrc.columns=['English (en)' ,'Anger',  'Anticipation',  'Disgust'  ,'Fear',   'Joy',   'Negative',   'Positive',   'Sadness',  'Surprise', 'Trust']\n",
        "cols_to_iterate=['English (en)','Anger',  'Anticipation',  'Disgust'  ,'Fear',   'Joy',   'Negative',   'Positive',   'Sadness',  'Surprise', 'Trust']"
      ],
      "execution_count": null,
      "outputs": []
    },
    {
      "cell_type": "code",
      "metadata": {
        "id": "mqw27hWEMvkK",
        "colab_type": "code",
        "colab": {}
      },
      "source": [
        "for t in term:\n",
        "    if"
      ],
      "execution_count": null,
      "outputs": []
    },
    {
      "cell_type": "code",
      "metadata": {
        "id": "10Ho6u5H2dag",
        "colab_type": "code",
        "colab": {}
      },
      "source": [
        "with open('','a') as f:\n",
        "    for index ,   word in nrc.iterrows():\n",
        "        for col in cols_to_iterate:\n",
        "            line=\"%s \\t %s  \\t  %d  \\n\"   %  (word['word'],col,word[col])\n",
        "            f.write(line)"
      ],
      "execution_count": null,
      "outputs": []
    }
  ]
}