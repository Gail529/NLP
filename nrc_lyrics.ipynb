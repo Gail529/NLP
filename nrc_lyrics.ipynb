{
  "nbformat": 4,
  "nbformat_minor": 0,
  "metadata": {
    "colab": {
      "name": "nrc_lyrics.ipynb",
      "provenance": [],
      "private_outputs": true,
      "mount_file_id": "10SjgMJ_0M_Zr0fTSdgDH1bh-6A3IG2JG",
      "authorship_tag": "ABX9TyPrN+JPyMNutW7S7xIFGWGL",
      "include_colab_link": true
    },
    "kernelspec": {
      "name": "python3",
      "display_name": "Python 3"
    }
  },
  "cells": [
    {
      "cell_type": "markdown",
      "metadata": {
        "id": "view-in-github",
        "colab_type": "text"
      },
      "source": [
        "<a href=\"https://colab.research.google.com/github/Gail529/NLP/blob/master/nrc_lyrics.ipynb\" target=\"_parent\"><img src=\"https://colab.research.google.com/assets/colab-badge.svg\" alt=\"Open In Colab\"/></a>"
      ]
    },
    {
      "cell_type": "code",
      "metadata": {
        "id": "SmMLR4K_Twrm"
      },
      "source": [
        "import numpy as np\n",
        "import pandas as pd\n",
        "import string "
      ],
      "execution_count": null,
      "outputs": []
    },
    {
      "cell_type": "code",
      "metadata": {
        "id": "AAQG6IpAU8YM"
      },
      "source": [
        "emo=pd.read_csv('/content/NRC-Emotion-Intensity-Lexicon-v1.txt',sep='\\t')"
      ],
      "execution_count": null,
      "outputs": []
    },
    {
      "cell_type": "code",
      "metadata": {
        "id": "ReM9WfKFVLGg"
      },
      "source": [
        "emo.head(50)"
      ],
      "execution_count": null,
      "outputs": []
    },
    {
      "cell_type": "code",
      "metadata": {
        "id": "EoOrXh4Dg8ii"
      },
      "source": [
        "emo_word=emo.loc[(emo['word'] == 'money') & (emo['emotion-intensity-score'] >= 0.5 )]"
      ],
      "execution_count": null,
      "outputs": []
    },
    {
      "cell_type": "code",
      "metadata": {
        "id": "aSVExH-bbVuv"
      },
      "source": [
        "songs=pd.read_csv('/content/rock_songs.csv')\n",
        "songs.shape"
      ],
      "execution_count": null,
      "outputs": []
    },
    {
      "cell_type": "code",
      "metadata": {
        "id": "iptvCHxnbvSM"
      },
      "source": [
        "songs.head()"
      ],
      "execution_count": null,
      "outputs": []
    },
    {
      "cell_type": "code",
      "metadata": {
        "id": "FuOHl9hIb35P"
      },
      "source": [
        "lyrics=songs.iloc[0,2]\n",
        "lyrics"
      ],
      "execution_count": null,
      "outputs": []
    },
    {
      "cell_type": "code",
      "metadata": {
        "id": "TyuMFiJ1f_ia"
      },
      "source": [
        " import re\n",
        " fline=re.sub('['+string.punctuation+']','',lyrics)\n",
        "fline"
      ],
      "execution_count": null,
      "outputs": []
    },
    {
      "cell_type": "code",
      "metadata": {
        "id": "fQ4Mx9zGiW4R"
      },
      "source": [
        "type(fline)"
      ],
      "execution_count": null,
      "outputs": []
    },
    {
      "cell_type": "code",
      "metadata": {
        "id": "UbH5XxT5iplQ"
      },
      "source": [
        "def convert(words):\n",
        "    li=list (words.split (\"-\"))\n",
        "    return li\n",
        "\n",
        "strin='today just sucks'\n",
        "lyr=convert(fline)\n",
        "lyr"
      ],
      "execution_count": null,
      "outputs": []
    },
    {
      "cell_type": "code",
      "metadata": {
        "id": "Bv11JphVl2b2"
      },
      "source": [
        "type(lyr)"
      ],
      "execution_count": null,
      "outputs": []
    },
    {
      "cell_type": "code",
      "metadata": {
        "id": "94ug8mJwlL4r"
      },
      "source": [
        "lyric=[]\n",
        "import nltk\n",
        "nltk.download('punkt')\n",
        "from nltk.stem import PorterStemmer\n",
        "from nltk.tokenize import word_tokenize\n",
        "text=word_tokenize(fline)\n",
        "stemmer=PorterStemmer()\n",
        "#punctuations\n",
        "for word in text:\n",
        "    new=stemmer.stem(word)\n",
        "    lyric.append(new)"
      ],
      "execution_count": null,
      "outputs": []
    },
    {
      "cell_type": "code",
      "metadata": {
        "id": "vEt-_v5lkK1Y"
      },
      "source": [
        "type(lyric)"
      ],
      "execution_count": null,
      "outputs": []
    },
    {
      "cell_type": "code",
      "metadata": {
        "id": "qwyWdBToIWg6"
      },
      "source": [
        "lyric2=[]\n",
        "nltk.download('wordnet')\n",
        "from nltk.stem import WordNetLemmatizer\n",
        "lemmatizer=WordNetLemmatizer()\n",
        "for word in text:\n",
        "    new2=lemmatizer.lemmatize(word)\n",
        "    lyric2.append(new2)"
      ],
      "execution_count": null,
      "outputs": []
    },
    {
      "cell_type": "code",
      "metadata": {
        "id": "W9k4TxTdL69g"
      },
      "source": [
        "type(lyric2)"
      ],
      "execution_count": null,
      "outputs": []
    },
    {
      "cell_type": "code",
      "metadata": {
        "id": "VYjV1m_fMGHP"
      },
      "source": [
        "cold_play=emo.loc[(emo['word'].isin(lyric2))  & (emo['emotion-intensity-score'] >= 0.4)]\n",
        "cold_play"
      ],
      "execution_count": null,
      "outputs": []
    },
    {
      "cell_type": "code",
      "metadata": {
        "id": "iOqsnonSflYN"
      },
      "source": [
        "emo.loc[emo['word'].isin(lyric)]"
      ],
      "execution_count": null,
      "outputs": []
    }
  ]
}